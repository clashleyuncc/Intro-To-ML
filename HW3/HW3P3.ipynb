{
  "nbformat": 4,
  "nbformat_minor": 0,
  "metadata": {
    "colab": {
      "provenance": [],
      "authorship_tag": "ABX9TyPMfTJRbKSS8I2QATm5iW9G",
      "include_colab_link": true
    },
    "kernelspec": {
      "name": "python3",
      "display_name": "Python 3"
    },
    "language_info": {
      "name": "python"
    }
  },
  "cells": [
    {
      "cell_type": "markdown",
      "metadata": {
        "id": "view-in-github",
        "colab_type": "text"
      },
      "source": [
        "<a href=\"https://colab.research.google.com/github/clashleyuncc/Intro-To-ML/blob/main/HW3P3.ipynb\" target=\"_parent\"><img src=\"https://colab.research.google.com/assets/colab-badge.svg\" alt=\"Open In Colab\"/></a>"
      ]
    },
    {
      "cell_type": "code",
      "execution_count": 4,
      "metadata": {
        "colab": {
          "base_uri": "https://localhost:8080/",
          "height": 638
        },
        "id": "nuOFAWlcJeXO",
        "outputId": "326a79ab-7ba7-42b6-c41e-4072ca9d5f0f"
      },
      "outputs": [
        {
          "output_type": "stream",
          "name": "stdout",
          "text": [
            "Accuracy: 0.9122807017543859\n",
            "Precision: 0.9253731343283582\n",
            "Recall: 0.9253731343283582\n",
            "F1: 0.9253731343283582\n"
          ]
        },
        {
          "output_type": "execute_result",
          "data": {
            "text/plain": [
              "Text(0.5, 427.9555555555555, 'Predicted label')"
            ]
          },
          "metadata": {},
          "execution_count": 4
        },
        {
          "output_type": "display_data",
          "data": {
            "text/plain": [
              "<Figure size 640x480 with 2 Axes>"
            ],
            "image/png": "[encoded data removed]"
          },
          "metadata": {}
        }
      ],
      "source": [
        "import numpy as np\n",
        "import pandas as pd\n",
        "import matplotlib.pyplot as plt\n",
        "from sklearn.linear_model import LogisticRegression\n",
        "from sklearn.model_selection import train_test_split\n",
        "from sklearn.preprocessing import MinMaxScaler\n",
        "from sklearn.preprocessing import StandardScaler\n",
        "from sklearn.metrics import confusion_matrix\n",
        "from sklearn.metrics import classification_report\n",
        "from sklearn import metrics\n",
        "import seaborn as sns\n",
        "from sklearn.datasets import load_breast_cancer\n",
        "from sklearn import datasets\n",
        "from sklearn.naive_bayes import GaussianNB\n",
        "\n",
        "# Problem 2a\n",
        "\n",
        "breast = load_breast_cancer()\n",
        "breast_data = breast.data\n",
        "breast_input = pd.DataFrame(breast_data)\n",
        "\n",
        "breast_labels = breast.target\n",
        "labels = np.reshape(breast_labels,(569,1))\n",
        "final_breast_data = np.concatenate([breast_data,labels],axis=1)\n",
        "breast_dataset = pd.DataFrame(final_breast_data)\n",
        "\n",
        "features = breast.feature_names\n",
        "features_labels = np.append(features,'label')\n",
        "breast_dataset.columns = features_labels\n",
        "\n",
        "breast_dataset['label'] = breast_dataset['label'].replace(0, 'Benign')\n",
        "breast_dataset['label'] = breast_dataset['label'].replace(1, 'Malignant')\n",
        "\n",
        "\n",
        "X = breast_dataset.iloc[:, :29].values\n",
        "Y = breast_dataset.iloc[:, 30].values\n",
        "\n",
        "X_train, X_test, Y_train, Y_test = train_test_split(X, Y, test_size = 0.2, random_state = 0)\n",
        "\n",
        "scaler = MinMaxScaler()\n",
        "X_train = scaler.fit_transform(X_train)\n",
        "X_test = scaler.transform(X_test)\n",
        "\n",
        "sc_X = StandardScaler()\n",
        "X_train = sc_X.fit_transform(X_train)\n",
        "X_test = sc_X.transform(X_test)\n",
        "\n",
        "classifier = GaussianNB()\n",
        "classifier.fit(X_train, Y_train)\n",
        "\n",
        "Y_pred = classifier.predict(X_test)\n",
        "\n",
        "cnf_matrix = confusion_matrix(Y_test, Y_pred)\n",
        "\n",
        "\n",
        "print(\"Accuracy:\",metrics.accuracy_score(Y_test, Y_pred))\n",
        "print(\"Precision:\",metrics.precision_score(Y_test, Y_pred, labels=[features_labels], pos_label='Malignant'))\n",
        "print(\"Recall:\",metrics.recall_score(Y_test, Y_pred, labels=[features_labels], pos_label='Malignant'))\n",
        "print(\"F1:\",metrics.f1_score(Y_test, Y_pred, labels=[features_labels], pos_label='Malignant'))\n",
        "\n",
        "\n",
        "class_names=[0,1] # name  of classes\n",
        "fig, ax = plt.subplots()\n",
        "tick_marks = np.arange(len(class_names))\n",
        "plt.xticks(tick_marks, class_names)\n",
        "plt.yticks(tick_marks, class_names)\n",
        "# create heatmap\n",
        "sns.heatmap(pd.DataFrame(cnf_matrix), annot=True, cmap=\"YlGnBu\" ,fmt='g')\n",
        "ax.xaxis.set_label_position(\"top\")\n",
        "plt.tight_layout()\n",
        "plt.title('Confusion matrix', y=1.1)\n",
        "plt.ylabel('Actual label')\n",
        "plt.xlabel('Predicted label')"
      ]
    }
  ]
}
