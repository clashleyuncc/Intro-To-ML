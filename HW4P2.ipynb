{
  "nbformat": 4,
  "nbformat_minor": 0,
  "metadata": {
    "colab": {
      "provenance": [],
      "authorship_tag": "ABX9TyOCwJzaUaPGC+lM4ATI8tVH",
      "include_colab_link": true
    },
    "kernelspec": {
      "name": "python3",
      "display_name": "Python 3"
    },
    "language_info": {
      "name": "python"
    }
  },
  "cells": [
    {
      "cell_type": "markdown",
      "metadata": {
        "id": "view-in-github",
        "colab_type": "text"
      },
      "source": [
        "<a href=\"https://colab.research.google.com/github/clashleyuncc/Intro-To-ML/blob/main/HW4P2.ipynb\" target=\"_parent\"><img src=\"https://colab.research.google.com/assets/colab-badge.svg\" alt=\"Open In Colab\"/></a>"
      ]
    },
    {
      "cell_type": "code",
      "execution_count": null,
      "metadata": {
        "id": "nuOFAWlcJeXO"
      },
      "outputs": [],
      "source": [
        "import numpy as np\n",
        "import pandas as pd\n",
        "import matplotlib.pyplot as plt\n",
        "from sklearn.linear_model import LogisticRegression\n",
        "from sklearn.model_selection import train_test_split\n",
        "from sklearn.preprocessing import MinMaxScaler\n",
        "from sklearn.preprocessing import StandardScaler\n",
        "from sklearn.metrics import confusion_matrix\n",
        "from sklearn.metrics import classification_report\n",
        "from sklearn import metrics\n",
        "import seaborn as sns; sns.set()\n",
        "from sklearn.datasets import load_breast_cancer\n",
        "from sklearn.model_selection import GridSearchCV\n",
        "from sklearn.pipeline import make_pipeline\n",
        "from scipy import stats\n",
        "from sklearn.svm import SVR\n",
        "\n",
        "# Problem 2\n",
        "\n",
        "from google.colab import drive\n",
        "drive.mount('/content/drive')\n",
        "file_path = '/content/drive/My Drive/4th Year Charlotte/IntroToML/Housing.csv'\n",
        "\n",
        "housing = pd.read_csv(file_path)\n",
        "\n",
        "varlist =  ['mainroad', 'guestroom', 'basement', 'hotwaterheating', 'airconditioning', 'prefarea']\n",
        "# Defining the map function\n",
        "def binary_map(x):\n",
        "    return x.map({'yes': 1, 'no': 0})\n",
        "# Applying the function to the housing list\n",
        "housing[varlist] = housing[varlist].apply(binary_map)\n",
        "\n",
        "Y = housing.pop('price')\n",
        "X = housing[['area', 'bedrooms', 'bathrooms', 'stories', 'parking', 'mainroad', 'guestroom', 'basement', 'hotwaterheating', 'airconditioning']]\n",
        "\n",
        "X = StandardScaler().fit_transform(X)\n",
        "\n",
        "from sklearn.decomposition import PCA\n",
        "pca = PCA(n_components=2)\n",
        "principalComponents = pca.fit_transform(X)\n",
        "principalDf = pd.DataFrame(data = principalComponents\n",
        "             , columns = ['principal component 1', 'principal component 2'])\n",
        "principalDf.head()\n",
        "\n",
        "Ytarget = pd.DataFrame(Y)\n",
        "\n",
        "finalDf = pd.concat([principalDf, Ytarget], axis = 1)\n",
        "\n",
        "X_train, X_test, Y_train, Y_test = train_test_split(principalDf, Ytarget, test_size = 0.2, random_state = 0)\n",
        "\n",
        "svr_rbf = SVR(kernel='rbf', C=1e3, gamma=0.1)\n",
        "svr_lin = SVR(kernel='linear', C=1e3)\n",
        "svr_poly = SVR(kernel='poly', C=1e3, degree=2)\n",
        "y_rbf = svr_rbf.fit(X_train, Y_train).predict(X_test)\n",
        "y_lin = svr_lin.fit(X_train, Y_train).predict(X_test)\n",
        "y_poly = svr_poly.fit(X_train, Y_train).predict(X_test)\n",
        "\n",
        "lw = 2\n",
        "plt.scatter(X_train, Y_train, color='darkorange', label='data')\n",
        "plt.plot(X_test, y_rbf, color='navy', lw=lw, label='RBF model')\n",
        "plt.plot(X_test, y_lin, color='c', lw=lw, label='Linear model')\n",
        "plt.plot(X_test, y_poly, color='cornflowerblue', lw=lw, label='Polynomial model')\n",
        "plt.xlabel('data')\n",
        "plt.ylabel('target')\n",
        "plt.title('Support Vector Regression')\n",
        "plt.legend()\n",
        "plt.show()\n",
        "\n"
      ]
    }
  ]
}