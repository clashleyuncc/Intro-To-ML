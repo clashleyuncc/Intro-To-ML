{
  "nbformat": 4,
  "nbformat_minor": 0,
  "metadata": {
    "colab": {
      "provenance": [],
      "authorship_tag": "ABX9TyP2ZbkQqpyrKi58INQEeAwP",
      "include_colab_link": true
    },
    "kernelspec": {
      "name": "python3",
      "display_name": "Python 3"
    },
    "language_info": {
      "name": "python"
    }
  },
  "cells": [
    {
      "cell_type": "markdown",
      "metadata": {
        "id": "view-in-github",
        "colab_type": "text"
      },
      "source": [
        "<a href=\"https://colab.research.google.com/github/clashleyuncc/Intro-To-ML/blob/main/LinearTempExPytorch.ipynb\" target=\"_parent\"><img src=\"https://colab.research.google.com/assets/colab-badge.svg\" alt=\"Open In Colab\"/></a>"
      ]
    },
    {
      "cell_type": "code",
      "execution_count": 35,
      "metadata": {
        "colab": {
          "base_uri": "https://localhost:8080/"
        },
        "id": "vRb41mqjJaFt",
        "outputId": "b25c374d-d9fd-448b-870f-b15daf9bb239"
      },
      "outputs": [
        {
          "output_type": "stream",
          "name": "stdout",
          "text": [
            "Epoch 500, Loss 7.843377\n",
            "Epoch 1000, Loss 3.825483\n",
            "Epoch 1500, Loss 3.091630\n",
            "Epoch 2000, Loss 2.957596\n",
            "Epoch 2500, Loss 2.933116\n",
            "Epoch 3000, Loss 2.928646\n",
            "Epoch 3500, Loss 2.927829\n",
            "Epoch 4000, Loss 2.927679\n",
            "Epoch 4500, Loss 2.927652\n",
            "Epoch 5000, Loss 2.927648\n"
          ]
        },
        {
          "output_type": "execute_result",
          "data": {
            "text/plain": [
              "tensor([  5.3671, -17.3012], requires_grad=True)"
            ]
          },
          "metadata": {},
          "execution_count": 35
        }
      ],
      "source": [
        "# Temperature Prediction Example with Linear model w/ gradient descent optimizer\n",
        "\n",
        "import torch\n",
        "import torch.optim as optim\n",
        "\n",
        "t_c = [0.5, 14.0, 15.0, 28.0, 11.0, 8.0, 3.0, -4.0, 6.0, 13.0, 21.0]\n",
        "t_u = [35.7, 55.9, 58.2, 81.9, 56.3, 48.9, 33.9, 21.8, 48.4, 60.4, 68.4]\n",
        "t_c = torch.tensor(t_c)\n",
        "t_u = torch.tensor(t_u)\n",
        "t_un = t_u*0.1\n",
        "\n",
        "def model(t_u, w, b):\n",
        "  return w * t_u + b\n",
        "\n",
        "def loss_fn(t_p, t_c):\n",
        "  squared_diffs = (t_p - t_c)**2\n",
        "  return squared_diffs.mean()\n",
        "\n",
        "def training_loop(n_epochs, optimizer, params, t_u, t_c):\n",
        "  for epoch in range(1, n_epochs + 1):\n",
        "    t_p = model(t_u, *params)\n",
        "    loss = loss_fn(t_p, t_c)\n",
        "    optimizer.zero_grad()\n",
        "    loss.backward()\n",
        "    optimizer.step()\n",
        "\n",
        "    if epoch % 500 == 0:\n",
        "      print('Epoch %d, Loss %f' % (epoch, float(loss)))\n",
        "  return params\n",
        "\n",
        "w = torch.ones(())    #initial W is 1\n",
        "b = torch.zeros(())   #initial b is 0\n",
        "t_p = model(t_u, w, b)\n",
        "\n",
        "#t_p output: tensor([35.7000, 55.9000, 58.2000, 81.9000, 56.3000, 48.9000, 33.9000,\n",
        "#                     21.8000, 48.4000, 60.4000, 68.4000])\n",
        "\n",
        "loss = loss_fn(t_p, t_c)\n",
        "#loss output: tensor(1763.8846)\n",
        "\n",
        "params = torch.tensor([1.0, 0.0], requires_grad=True)\n",
        "learning_rate = 1e-2\n",
        "optimizer = optim.SGD([params], lr=learning_rate)\n",
        "t_p = model(t_un, *params)\n",
        "\n",
        "loss = loss_fn(t_p, t_c)\n",
        "optimizer.zero_grad()\n",
        "loss.backward()\n",
        "optimizer.step()\n",
        "params\n",
        "#params.grad output: tensor([4517.2969, 82.6000])\n",
        "\n",
        "training_loop(\n",
        "    n_epochs = 5000,\n",
        "    optimizer = optimizer,\n",
        "    params = params,\n",
        "    t_u = t_un,\n",
        "    t_c = t_c)"
      ]
    }
  ]
}